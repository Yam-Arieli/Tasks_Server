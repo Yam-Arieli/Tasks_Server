{
 "cells": [
  {
   "cell_type": "code",
   "execution_count": 1,
   "id": "7c95f00e-f391-43d4-966f-ff61cdaa6745",
   "metadata": {},
   "outputs": [],
   "source": [
    "import requests\n",
    "from datetime import date"
   ]
  },
  {
   "cell_type": "markdown",
   "id": "7defad70",
   "metadata": {},
   "source": [
    "# EMPLOYEES"
   ]
  },
  {
   "cell_type": "code",
   "execution_count": 2,
   "id": "07dc2b51",
   "metadata": {},
   "outputs": [],
   "source": [
    "BASE_URL_EMP = 'http://127.0.0.1:5000/Tasks_Manager/Employees'"
   ]
  },
  {
   "cell_type": "code",
   "execution_count": 3,
   "id": "49619534",
   "metadata": {},
   "outputs": [
    {
     "data": {
      "text/plain": [
       "<Response [200]>"
      ]
     },
     "execution_count": 3,
     "metadata": {},
     "output_type": "execute_result"
    }
   ],
   "source": [
    "args = {'first name': 'John ', 'last name': 'Doe', 'email': 'JohnDoe@gmail.com', 'password': '1234', 'role': 'programmer'}\n",
    "response = requests.post(\n",
    "    BASE_URL_EMP,\n",
    "    json=args)\n",
    "response"
   ]
  },
  {
   "cell_type": "code",
   "execution_count": 4,
   "id": "639162f7-34de-49c8-86ff-01b58dbafeee",
   "metadata": {},
   "outputs": [
    {
     "data": {
      "text/plain": [
       "<Response [200]>"
      ]
     },
     "execution_count": 4,
     "metadata": {},
     "output_type": "execute_result"
    }
   ],
   "source": [
    "args = {'first name': 'Jane', 'last name': 'Roe', 'email': 'JaneRoe@gmail.com', 'password': '5678', 'role': 'scientist'}\n",
    "response = requests.post(\n",
    "    BASE_URL_EMP,\n",
    "    json=args)\n",
    "response"
   ]
  },
  {
   "cell_type": "markdown",
   "id": "cc2b0efd-7b90-4ba7-96cb-aea4bfcdc709",
   "metadata": {},
   "source": [
    "### Note\n",
    "> You can't use the same email for more than one employee"
   ]
  },
  {
   "cell_type": "code",
   "execution_count": 6,
   "id": "e85919bd",
   "metadata": {},
   "outputs": [
    {
     "name": "stdout",
     "output_type": "stream",
     "text": [
      "{'code': 409, 'error': 'This email is taken'}\n"
     ]
    }
   ],
   "source": [
    "args = {'first name': 'some', 'last name': 'other', 'email': 'JohnDoe@gmail.com', 'password': 'nevermind', 'role': 'anything'}\n",
    "response = requests.post(\n",
    "    BASE_URL_EMP,\n",
    "    json=args)\n",
    "\n",
    "print(response.json())"
   ]
  },
  {
   "cell_type": "code",
   "execution_count": 8,
   "id": "9516d282",
   "metadata": {},
   "outputs": [
    {
     "data": {
      "text/plain": [
       "<Response [200]>"
      ]
     },
     "execution_count": 8,
     "metadata": {},
     "output_type": "execute_result"
    }
   ],
   "source": [
    "response = requests.get(BASE_URL_EMP, json={'first name': \"Jane\"})\n",
    "response"
   ]
  },
  {
   "cell_type": "code",
   "execution_count": 9,
   "id": "75a10a32",
   "metadata": {},
   "outputs": [
    {
     "name": "stdout",
     "output_type": "stream",
     "text": [
      "{\n",
      "    \"code\": 200,\n",
      "    \"result\": [\n",
      "        {\n",
      "            \"_id\": \"645f9307b73ff09a94bf233d\",\n",
      "            \"first name\": \"Jane\",\n",
      "            \"last name\": \"Roe\",\n",
      "            \"email\": \"JaneRoe@gmail.com\",\n",
      "            \"role\": \"scientist\",\n",
      "            \"created\": \"2023-05-13 16:39:19.893000\",\n",
      "            \"last update\": \"2023-05-13 16:39:19.893000\",\n",
      "            \"comments\": []\n",
      "        }\n",
      "    ]\n",
      "}\n",
      "\n"
     ]
    }
   ],
   "source": [
    "print(response.text)"
   ]
  },
  {
   "cell_type": "markdown",
   "id": "180826cf-b0a2-48bf-b590-aa27d4bebcf6",
   "metadata": {},
   "source": [
    ">Any task or comment required an `email` and `password` as auth for the user"
   ]
  },
  {
   "cell_type": "markdown",
   "id": "2f1abced",
   "metadata": {},
   "source": [
    "# Tasks"
   ]
  },
  {
   "cell_type": "code",
   "execution_count": 10,
   "id": "8efc6abb-edf0-41b8-a8b5-9a566531c7b6",
   "metadata": {},
   "outputs": [
    {
     "data": {
      "text/plain": [
       "<Response [200]>"
      ]
     },
     "execution_count": 10,
     "metadata": {},
     "output_type": "execute_result"
    }
   ],
   "source": [
    "BASE_URL_TASKS = 'http://127.0.0.1:5000/Tasks_Manager/Tasks'\n",
    "args = {'email': 'JohnDoe@gmail.com', 'password': '1234', # auth\n",
    "        'activity': 'cook meal',                          # task\n",
    "        'responsible': \"JaneRoe@gmail.com\",               # email of the responsible employee\n",
    "        'deadline': str(date.today())                     # datetime format as a string\n",
    "}\n",
    "\n",
    "response_task = requests.post(BASE_URL_TASKS, json=args)\n",
    "response_task"
   ]
  },
  {
   "cell_type": "markdown",
   "id": "7a3cfbea",
   "metadata": {},
   "source": [
    "# Comments"
   ]
  },
  {
   "cell_type": "code",
   "execution_count": 11,
   "id": "8bf3deaf",
   "metadata": {},
   "outputs": [
    {
     "data": {
      "text/plain": [
       "<Response [200]>"
      ]
     },
     "execution_count": 11,
     "metadata": {},
     "output_type": "execute_result"
    }
   ],
   "source": [
    "BASE_URL_COM = 'http://127.0.0.1:5000/Tasks_Manager/Comments'\n",
    "\n",
    "# The _id of the task we created\n",
    "task_id = response_task.json()['task_id']\n",
    "\n",
    "args = {'email': 'JohnDoe@gmail.com', 'password': '1234',\n",
    "        'title': 'very speciel request', 'content': 'maybe try the new recpie please',\n",
    "        'task_id': task_id}\n",
    "\n",
    "response = requests.post(\n",
    "    BASE_URL_COM,\n",
    "    json=args)\n",
    "response"
   ]
  },
  {
   "cell_type": "code",
   "execution_count": 13,
   "id": "af88fb9d",
   "metadata": {},
   "outputs": [
    {
     "data": {
      "text/plain": [
       "<Response [200]>"
      ]
     },
     "execution_count": 13,
     "metadata": {},
     "output_type": "execute_result"
    }
   ],
   "source": [
    "response = requests.get(BASE_URL_COM, json={\"title\": \"very speciel request\"})\n",
    "response"
   ]
  },
  {
   "cell_type": "code",
   "execution_count": 14,
   "id": "4943b771-bbdc-4730-bca1-e6955407cf9c",
   "metadata": {},
   "outputs": [
    {
     "name": "stdout",
     "output_type": "stream",
     "text": [
      "{\n",
      "    \"code\": 200,\n",
      "    \"result\": [\n",
      "        {\n",
      "            \"_id\": \"645e6cc6c3a5bfb407d1fda0\",\n",
      "            \"title\": \"very speciel request\",\n",
      "            \"content\": \"maybe try the new recpie please\",\n",
      "            \"employee details\": \"{'_id': ObjectId('645e6cc2c3a5bfb407d1fd9f')}\",\n",
      "            \"created\": \"2023-05-12 19:43:50.041000\"\n",
      "        },\n",
      "        {\n",
      "            \"_id\": \"645e6d36fbad089e821758a8\",\n",
      "            \"title\": \"very speciel request\",\n",
      "            \"content\": \"maybe try the new recpie please\",\n",
      "            \"employee details\": \"{'_id': ObjectId('645e6cc2c3a5bfb407d1fd9f')}\",\n",
      "            \"created\": \"2023-05-12 19:45:42.123000\"\n",
      "        },\n",
      "        {\n",
      "            \"_id\": \"645e6dc13e45fac02eb58b29\",\n",
      "            \"title\": \"very speciel request\",\n",
      "            \"content\": \"maybe try the new recpie please\",\n",
      "            \"employee details\": \"{'_id': ObjectId('645e6cc2c3a5bfb407d1fd9f')}\",\n",
      "            \"created\": \"2023-05-12 19:48:01.028000\"\n",
      "        },\n",
      "        {\n",
      "            \"_id\": \"645f8b27164842eb0a473743\",\n",
      "            \"title\": \"very speciel request\",\n",
      "            \"content\": \"maybe try the new recpie please\",\n",
      "            \"employee details\": \"{'_id': ObjectId('645f8b09164842eb0a473742')}\",\n",
      "            \"created\": \"2023-05-13 16:05:43.213000\"\n",
      "        },\n",
      "        {\n",
      "            \"_id\": \"645f949a55191fca015e80f9\",\n",
      "            \"title\": \"very speciel request\",\n",
      "            \"content\": \"maybe try the new recpie please\",\n",
      "            \"employee details\": \"{'_id': ObjectId('645f944b55191fca015e80f8')}\",\n",
      "            \"created\": \"2023-05-13 16:46:02.272000\"\n",
      "        }\n",
      "    ]\n",
      "}\n",
      "\n"
     ]
    }
   ],
   "source": [
    "print(response.text)"
   ]
  }
 ],
 "metadata": {
  "kernelspec": {
   "display_name": "Python 3 (ipykernel)",
   "language": "python",
   "name": "python3"
  },
  "language_info": {
   "codemirror_mode": {
    "name": "ipython",
    "version": 3
   },
   "file_extension": ".py",
   "mimetype": "text/x-python",
   "name": "python",
   "nbconvert_exporter": "python",
   "pygments_lexer": "ipython3",
   "version": "3.8.8"
  }
 },
 "nbformat": 4,
 "nbformat_minor": 5
}
